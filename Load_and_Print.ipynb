{
 "cells": [
  {
   "cell_type": "code",
   "execution_count": 1,
   "id": "d983f42a",
   "metadata": {},
   "outputs": [],
   "source": [
    "from docx import Document"
   ]
  },
  {
   "cell_type": "code",
   "execution_count": 2,
   "id": "f5a42d9a",
   "metadata": {},
   "outputs": [],
   "source": [
    "def read_qas(file):\n",
    "    qas_doc = Document(file)\n",
    "    questions = []\n",
    "    for para in qas_doc.paragraphs:\n",
    "        question = {}\n",
    "        k, v = para.text.split(\":\", 1)\n",
    "        question[k.strip()] = v.strip()\n",
    "        questions.append(question)\n",
    "    return questions"
   ]
  },
  {
   "cell_type": "code",
   "execution_count": 3,
   "id": "07a8119b",
   "metadata": {},
   "outputs": [],
   "source": [
    "def print_result(name, ans):\n",
    "    output = Document()\n",
    "\n",
    "    output.add_heading(f\"{name} - Review Result\", 0)\n",
    "\n",
    "    output.add_heading(\"Part 1. Basic Information\",1)\n",
    "\n",
    "    for i in range(0,7):\n",
    "        q = \"Q\" + str(i+1) + \". \" + ans[i][\"query\"]\n",
    "        a = ans[i][\"answers\"][0].answer\n",
    "        output.add_heading(q,2)\n",
    "        output.add_heading(a,2)\n",
    "        output.add_heading(\" \",2)\n",
    "        \n",
    "    \n",
    "    q8 = \"Q8. \" + ans[7][\"query\"]\n",
    "    a8 = ans[7][\"answers\"][0].answer\n",
    "    output.add_heading(q8,2)\n",
    "    output.add_heading(a8,2)\n",
    "    if \"China\" not in a8 and \"New York\" not in a8:\n",
    "        output.add_heading(\"Attention: the governing law may not acceptable.\",2)\n",
    "        \n",
    "    output.add_heading(\"Part 2. Important clauses for review\",1)\n",
    "    for i in range(8,13):\n",
    "        q = \"Q\" + str(i+1) + \". \" + ans[i][\"query\"]\n",
    "        a = ans[i][\"answers\"][0].answer\n",
    "        output.add_heading(q,2)\n",
    "        output.add_heading(a,2)\n",
    "        output.add_heading(\" \",2)\n",
    "    \n",
    "    output_dir = f\"./Review_Results/{name}_Result.docx\"\n",
    "    output.save(output_dir)"
   ]
  },
  {
   "cell_type": "code",
   "execution_count": null,
   "id": "3dec0d59",
   "metadata": {},
   "outputs": [],
   "source": []
  }
 ],
 "metadata": {
  "kernelspec": {
   "display_name": "ML",
   "language": "python",
   "name": "ml"
  },
  "language_info": {
   "codemirror_mode": {
    "name": "ipython",
    "version": 3
   },
   "file_extension": ".py",
   "mimetype": "text/x-python",
   "name": "python",
   "nbconvert_exporter": "python",
   "pygments_lexer": "ipython3",
   "version": "3.8.5"
  }
 },
 "nbformat": 4,
 "nbformat_minor": 5
}
